{
 "cells": [
  {
   "cell_type": "markdown",
   "id": "aec42ab5",
   "metadata": {},
   "source": [
    "# Course work\n",
    "\n",
    "0. Import the libraries that you will need\n",
    "```\n",
    "import pandas as pd\n",
    "import seaborn as sns\n",
    "import matplotlib.pyplot as plt\n",
    "```\n",
    "1. Get the data - in the cell below run: **Note** you only need to run this command the first time you do the exercise. If you save and go away and come back, then can skip straight to step 2.\n",
    "```\n",
    "!python get-my-data.py\n",
    "```\n",
    "2. Read in the csv:\n",
    "```\n",
    "df = pd.read_csv('coursework-data.csv')\n",
    "```\n",
    "3. Perform some exploratory data analysis to clean up the dataset. The code needed for this part is found in the first set of exercises that you did. \n",
    "    - Remove outliers\n",
    "    - If any pairs of variables are highly correlated, remove one of the pair - highly correlated in this case > 0.99\n",
    "\n",
    "4. Fit a baseline model, linear regression to map the control parameters (all parameters *except* `gllbsc_gap`) to the dependent parameter `gllbsc_gap`. Summarise its performance. \n",
    "\n",
    "To set up the data use:\n",
    "```\n",
    "x = training_data.loc[:, training_data.columns != \"gllbsc_gap\"].values\n",
    "y = training_data.loc[:, training_data.columns == \"gllbsc_gap\"].values\n",
    "```\n",
    "The rest of the code you need for this found in the second set of exercises that you did. \n",
    "\n",
    "- From looking at the linear regression model, which features have the greatest influence on the band gap?\n",
    "\n",
    "\n",
    "5. Develop a gradient boosted regressor to the same data. Summarise its performance.\n",
    "\n",
    "## <span style=\"color:red\"> Important notes</span>\n",
    "\n",
    "### Submitting the coursework\n",
    "\n",
    "When you are finished with the coursework - use `File > Save and Export Notebook As > pdf` to download a pdf of the completed notebook. Submit this pdf _via_ the portal on QMplus. \n",
    "\n",
    "<span style=\"color:red\"> The deadline for submission is Friday 28th April at 16:00.</span>\n",
    "\n",
    "### Text explanations\n",
    "\n",
    "**Please please please** add text to explain what you are doing in the code. Adding text boxes is easy, just add a new cell as normal then change the type to `Markdown` with the dropdown menu at the top of the cells. Adding text will make sure that markers can give you proper grades even if you make a small slip in your code. If you have no text explanation and still have a small slip, you will likely get no marks!\n",
    "\n",
    "### Datasets\n",
    "\n",
    "All of your datasets are generated randomly. So do not expect the same answers as your friends. If you compare answers and find that you have something very different, do not worry.\n",
    "\n",
    "### Warnings from the code\n",
    "\n",
    "Don't worry if the code throws some warnings sometimes. If it keeps running then it is fine. Warnings usually just alert you to future planned changes in the code you are using.\n",
    "\n",
    "### Long run times\n",
    "\n",
    "There is a certain part of the exercise where a grid search is required. It could take quite a long time with this code. I have tested it and it took about 15 minutes for a 10-fold cross validation on a 5x5 gridsearch. Dont worry if it seems to be running for a long time, that's okay."
   ]
  },
  {
   "cell_type": "code",
   "execution_count": null,
   "id": "6e2a037e",
   "metadata": {},
   "outputs": [],
   "source": []
  }
 ],
 "metadata": {
  "kernelspec": {
   "display_name": "Python 3 (ipykernel)",
   "language": "python",
   "name": "python3"
  },
  "language_info": {
   "codemirror_mode": {
    "name": "ipython",
    "version": 3
   },
   "file_extension": ".py",
   "mimetype": "text/x-python",
   "name": "python",
   "nbconvert_exporter": "python",
   "pygments_lexer": "ipython3",
   "version": "3.8.13"
  }
 },
 "nbformat": 4,
 "nbformat_minor": 5
}
